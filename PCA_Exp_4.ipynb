{
  "cells": [
    {
      "cell_type": "markdown",
      "metadata": {
        "id": "view-in-github",
        "colab_type": "text"
      },
      "source": [
        "<a href=\"https://colab.research.google.com/github/ShafeeqAhamedS/PCA-EXP-4-MATRIX-ADDITION-WITH-UNIFIED-MEMORY-AY-23-24/blob/main/PCA_Exp_4.ipynb\" target=\"_parent\"><img src=\"https://colab.research.google.com/assets/colab-badge.svg\" alt=\"Open In Colab\"/></a>"
      ]
    },
    {
      "cell_type": "code",
      "execution_count": null,
      "metadata": {
        "colab": {
          "base_uri": "https://localhost:8080/"
        },
        "id": "8GN8Z50Y9ecw",
        "outputId": "4b5d134d-695d-4831-9691-8fa0c0ed4dca"
      },
      "outputs": [
        {
          "output_type": "stream",
          "name": "stdout",
          "text": [
            "Collecting git+https://github.com/andreinechaev/nvcc4jupyter.git\n",
            "  Cloning https://github.com/andreinechaev/nvcc4jupyter.git to /tmp/pip-req-build-85vvciun\n",
            "  Running command git clone --filter=blob:none --quiet https://github.com/andreinechaev/nvcc4jupyter.git /tmp/pip-req-build-85vvciun\n",
            "  Resolved https://github.com/andreinechaev/nvcc4jupyter.git to commit 28f872a2f99a1b201bcd0db14fdbc5a496b9bfd7\n",
            "  Installing build dependencies ... \u001b[?25l\u001b[?25hdone\n",
            "  Getting requirements to build wheel ... \u001b[?25l\u001b[?25hdone\n",
            "  Preparing metadata (pyproject.toml) ... \u001b[?25l\u001b[?25hdone\n",
            "Building wheels for collected packages: nvcc4jupyter\n",
            "  Building wheel for nvcc4jupyter (pyproject.toml) ... \u001b[?25l\u001b[?25hdone\n",
            "  Created wheel for nvcc4jupyter: filename=nvcc4jupyter-1.2.1-py3-none-any.whl size=10743 sha256=3a570d3ab74e9051a615aa78d54722c78a69a0c83a1d407fccde14c37a30e96c\n",
            "  Stored in directory: /tmp/pip-ephem-wheel-cache-4iypdekz/wheels/a8/b9/18/23f8ef71ceb0f63297dd1903aedd067e6243a68ea756d6feea\n",
            "Successfully built nvcc4jupyter\n",
            "Installing collected packages: nvcc4jupyter\n",
            "Successfully installed nvcc4jupyter-1.2.1\n"
          ]
        }
      ],
      "source": [
        "!pip install git+https://github.com/andreinechaev/nvcc4jupyter.git"
      ]
    },
    {
      "cell_type": "code",
      "source": [
        "%load_ext nvcc4jupyter"
      ],
      "metadata": {
        "colab": {
          "base_uri": "https://localhost:8080/"
        },
        "id": "dsaQUmUa9yiF",
        "outputId": "2b96e0d9-98f1-4b64-c8fc-7a400a2acd92"
      },
      "execution_count": null,
      "outputs": [
        {
          "output_type": "stream",
          "name": "stdout",
          "text": [
            "Detected platform \"Colab\". Running its setup...\n",
            "Source files will be saved in \"/tmp/tmp49tz1r5o\".\n"
          ]
        }
      ]
    },
    {
      "cell_type": "code",
      "execution_count": null,
      "metadata": {
        "colab": {
          "base_uri": "https://localhost:8080/"
        },
        "id": "QaWrFVhC9ecy",
        "outputId": "27e61196-52f8-415d-89f9-c8260461fc72"
      },
      "outputs": [
        {
          "output_type": "stream",
          "name": "stdout",
          "text": [
            "/tmp/tmp49tz1r5o/4224ce91-0893-49de-9d02-180391785a50/cuda_exec.out Starting...\n",
            "Using Device 0: Tesla T4\n",
            "Matrix size: nx 4096 ny 4096\n",
            "Initialization time:\t 0.664066 sec\n",
            "sumMatrix on host:\t 0.063914 sec\n",
            "sumMatrix on GPU:\t 0.049318 sec <<<(128,128), (32,32)>>> \n",
            "Arrays match.\n",
            "\n",
            "\n"
          ]
        }
      ],
      "source": [
        "%%cuda\n",
        "#include <stdio.h>\n",
        "#include <cuda_runtime.h>\n",
        "#include <cuda.h>\n",
        "#include <sys/time.h>\n",
        "\n",
        "#ifndef _COMMON_H\n",
        "#define _COMMON_H\n",
        "\n",
        "#define CHECK(call)                                                            \\\n",
        "{                                                                              \\\n",
        "    const cudaError_t error = call;                                            \\\n",
        "    if (error != cudaSuccess)                                                  \\\n",
        "    {                                                                          \\\n",
        "        fprintf(stderr, \"Error: %s:%d, \", __FILE__, __LINE__);                 \\\n",
        "        fprintf(stderr, \"code: %d, reason: %s\\n\", error,                       \\\n",
        "                cudaGetErrorString(error));                                    \\\n",
        "        exit(1);                                                               \\\n",
        "    }                                                                          \\\n",
        "}\n",
        "\n",
        "inline double seconds()\n",
        "{\n",
        "    struct timeval tp;\n",
        "    struct timezone tzp;\n",
        "    int i = gettimeofday(&tp, &tzp);\n",
        "    return ((double)tp.tv_sec + (double)tp.tv_usec * 1.e-6);\n",
        "}\n",
        "\n",
        "#endif // _COMMON_H\n",
        "\n",
        "void initialData(float *ip, const int size)\n",
        "{\n",
        "    for (int i = 0; i < size; i++)\n",
        "    {\n",
        "        ip[i] = (float)(rand() & 0xFF) / 10.0f;\n",
        "    }\n",
        "}\n",
        "\n",
        "void sumMatrixOnHost(float *A, float *B, float *C, const int nx, const int ny)\n",
        "{\n",
        "    for (int iy = 0; iy < ny; iy++)\n",
        "    {\n",
        "        for (int ix = 0; ix < nx; ix++)\n",
        "        {\n",
        "            C[iy * nx + ix] = A[iy * nx + ix] + B[iy * nx + ix];\n",
        "        }\n",
        "    }\n",
        "}\n",
        "\n",
        "void checkResult(float *hostRef, float *gpuRef, const int N)\n",
        "{\n",
        "    double epsilon = 1.0E-8;\n",
        "    bool match = true;\n",
        "\n",
        "    for (int i = 0; i < N; i++)\n",
        "    {\n",
        "        if (abs(hostRef[i] - gpuRef[i]) > epsilon)\n",
        "        {\n",
        "            match = false;\n",
        "            printf(\"host %f gpu %f at index %d\\n\", hostRef[i], gpuRef[i], i);\n",
        "            break;\n",
        "        }\n",
        "    }\n",
        "\n",
        "    if (!match)\n",
        "    {\n",
        "        printf(\"Arrays do not match.\\n\\n\");\n",
        "    }\n",
        "    else\n",
        "    {\n",
        "        printf(\"Arrays match.\\n\\n\");\n",
        "    }\n",
        "}\n",
        "\n",
        "// grid 2D block 2D\n",
        "__global__ void sumMatrixGPU(float *MatA, float *MatB, float *MatC, int nx, int ny)\n",
        "{\n",
        "    int ix = blockIdx.x * blockDim.x + threadIdx.x;\n",
        "    int iy = blockIdx.y * blockDim.y + threadIdx.y;\n",
        "\n",
        "    if (ix < nx && iy < ny)\n",
        "    {\n",
        "        int idx = iy * nx + ix;\n",
        "        MatC[idx] = MatA[idx] + MatB[idx];\n",
        "    }\n",
        "}\n",
        "\n",
        "int main(int argc, char **argv)\n",
        "{\n",
        "    printf(\"%s Starting...\\n\", argv[0]);\n",
        "\n",
        "    // Set up device\n",
        "    int dev = 0;\n",
        "    cudaDeviceProp deviceProp;\n",
        "    CHECK(cudaGetDeviceProperties(&deviceProp, dev));\n",
        "    printf(\"Using Device %d: %s\\n\", dev, deviceProp.name);\n",
        "    CHECK(cudaSetDevice(dev));\n",
        "\n",
        "    // Set up data size of matrix\n",
        "    int nx, ny;\n",
        "    int ishift = 12;\n",
        "    if  (argc > 1) ishift = atoi(argv[1]);\n",
        "    nx = ny = 1 << ishift;\n",
        "    int nxy = nx * ny;\n",
        "    int nBytes = nxy * sizeof(float);\n",
        "    printf(\"Matrix size: nx %d ny %d\\n\", nx, ny);\n",
        "\n",
        "    // Allocate host memory using unified memory (Managed Memory)\n",
        "    float *A, *B, *hostRef, *gpuRef;\n",
        "    CHECK(cudaMallocManaged((void **)&A, nBytes));\n",
        "    CHECK(cudaMallocManaged((void **)&B, nBytes));\n",
        "    CHECK(cudaMallocManaged((void **)&gpuRef, nBytes));\n",
        "    CHECK(cudaMallocManaged((void **)&hostRef, nBytes));\n",
        "\n",
        "    // Initialize data at host side\n",
        "    double iStart = seconds();\n",
        "    initialData(A, nxy);\n",
        "    initialData(B, nxy);\n",
        "    double iElaps = seconds() - iStart;\n",
        "    printf(\"Initialization time:\\t %f sec\\n\", iElaps);\n",
        "\n",
        "    memset(hostRef, 0, nBytes);\n",
        "    memset(gpuRef, 0, nBytes);\n",
        "\n",
        "    // Sum matrix on host side for result checks\n",
        "    iStart = seconds();\n",
        "    sumMatrixOnHost(A, B, hostRef, nx, ny);\n",
        "    iElaps = seconds() - iStart;\n",
        "    printf(\"sumMatrix on host:\\t %f sec\\n\", iElaps);\n",
        "\n",
        "    // Invoke kernel at host side\n",
        "    int dimx = 32;\n",
        "    int dimy = 32;\n",
        "    dim3 block(dimx, dimy);\n",
        "    dim3 grid((nx + block.x - 1) / block.x, (ny + block.y - 1) / block.y);\n",
        "\n",
        "    // Warm-up kernel (with unified memory all pages will migrate from host to device)\n",
        "    sumMatrixGPU<<<grid, block>>>(A, B, gpuRef, 1, 1);\n",
        "    CHECK(cudaDeviceSynchronize());\n",
        "\n",
        "    // Time with unified memory\n",
        "    iStart = seconds();\n",
        "    sumMatrixGPU<<<grid, block>>>(A, B, gpuRef, nx, ny);\n",
        "    CHECK(cudaDeviceSynchronize());\n",
        "    iElaps = seconds() - iStart;\n",
        "    printf(\"sumMatrix on GPU:\\t %f sec <<<(%d,%d), (%d,%d)>>> \\n\", iElaps, grid.x, grid.y, block.x, block.y);\n",
        "\n",
        "    // Check device results\n",
        "    checkResult(hostRef, gpuRef, nxy);\n",
        "\n",
        "    // Free device global memory\n",
        "    CHECK(cudaFree(A));\n",
        "    CHECK(cudaFree(B));\n",
        "    CHECK(cudaFree(hostRef));\n",
        "    CHECK(cudaFree(gpuRef));\n",
        "\n",
        "    // Reset device\n",
        "    CHECK(cudaDeviceReset());\n",
        "\n",
        "    return 0;\n",
        "}"
      ]
    }
  ],
  "metadata": {
    "kernelspec": {
      "display_name": "Python 3",
      "name": "python3"
    },
    "language_info": {
      "codemirror_mode": {
        "name": "ipython",
        "version": 3
      },
      "file_extension": ".py",
      "mimetype": "text/x-python",
      "name": "python",
      "nbconvert_exporter": "python",
      "pygments_lexer": "ipython3",
      "version": "3.11.7"
    },
    "colab": {
      "provenance": [],
      "gpuType": "T4",
      "include_colab_link": true
    },
    "accelerator": "GPU"
  },
  "nbformat": 4,
  "nbformat_minor": 0
}